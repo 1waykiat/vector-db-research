{
 "cells": [
  {
   "cell_type": "code",
   "execution_count": null,
   "id": "e0d55d7a",
   "metadata": {},
   "outputs": [],
   "source": [
    "%pip install -U sentence-transformers"
   ]
  },
  {
   "cell_type": "code",
   "execution_count": null,
   "id": "c979c2e4",
   "metadata": {},
   "outputs": [],
   "source": [
    "# https://huggingface.co/blog/matryoshka"
   ]
  },
  {
   "cell_type": "code",
   "execution_count": null,
   "id": "cbc13886",
   "metadata": {},
   "outputs": [
    {
     "name": "stderr",
     "output_type": "stream",
     "text": [
      "c:\\Users\\HillSeah\\Documents\\hill priv\\vector-db-research\\.venv\\Lib\\site-packages\\tqdm\\auto.py:21: TqdmWarning: IProgress not found. Please update jupyter and ipywidgets. See https://ipywidgets.readthedocs.io/en/stable/user_install.html\n",
      "  from .autonotebook import tqdm as notebook_tqdm\n",
      "c:\\Users\\HillSeah\\Documents\\hill priv\\vector-db-research\\.venv\\Lib\\site-packages\\huggingface_hub\\file_download.py:143: UserWarning: `huggingface_hub` cache-system uses symlinks by default to efficiently store duplicated files but your machine does not support them in C:\\Users\\HillSeah\\.cache\\huggingface\\hub\\models--tomaarsen--mpnet-base-nli-matryoshka. Caching files will still work but in a degraded version that might require more space on your disk. This warning can be disabled by setting the `HF_HUB_DISABLE_SYMLINKS_WARNING` environment variable. For more details, see https://huggingface.co/docs/huggingface_hub/how-to-cache#limitations.\n",
      "To support symlinks on Windows, you either need to activate Developer Mode or to run Python as an administrator. In order to activate developer mode, see this article: https://docs.microsoft.com/en-us/windows/apps/get-started/enable-your-device-for-development\n",
      "  warnings.warn(message)\n",
      "Xet Storage is enabled for this repo, but the 'hf_xet' package is not installed. Falling back to regular HTTP download. For better performance, install the package with: `pip install huggingface_hub[hf_xet]` or `pip install hf_xet`\n"
     ]
    },
    {
     "name": "stdout",
     "output_type": "stream",
     "text": [
      "Shape before truncation: (6, 768)\n",
      "Memory size before truncation: 18.00 KB\n",
      "tensor([[0.7360, 0.4817, 0.9491, 0.2576, 0.3409]])\n",
      "Shape after truncation: (6, 64)\n",
      "Memory size after truncation: 1.50 KB\n",
      "tensor([[0.7534, 0.5863, 0.9524, 0.2467, 0.2536]])\n"
     ]
    }
   ],
   "source": [
    "from sentence_transformers import SentenceTransformer\n",
    "from sentence_transformers.util import cos_sim\n",
    "\n",
    "matryoshka_dim = 64\n",
    "model = SentenceTransformer(\"tomaarsen/mpnet-base-nli-matryoshka\")\n",
    "\n",
    "embeddings = model.encode([\n",
    "    \"Rachel is an amazing person.\",\n",
    "    \"Maria is an incredible person.\",\n",
    "    \"Nikhil is a fantastic person.\",\n",
    "    \"Rachel is a wonderful person.\",\n",
    "    \"Rachel hates carrots.\",\n",
    "    \"Rachel hates food.\"\n",
    "])\n",
    "\n",
    "import numpy as np\n",
    "print('Shape before truncation:', embeddings.shape)\n",
    "print('Memory size before truncation: %.2f KB' % (embeddings.nbytes / 1024))\n",
    "\n",
    "similarities = cos_sim(embeddings[0], embeddings[1:])\n",
    "print(similarities)\n",
    "\n",
    "embeddings = embeddings[:, :matryoshka_dim]\n",
    "print('Shape after truncation:', embeddings.shape)\n",
    "print('Memory size after truncation: %.2f KB' % (embeddings.nbytes / 1024))\n",
    "\n",
    "similarities = cos_sim(embeddings[0], embeddings[1:])\n",
    "print(similarities)\n"
   ]
  },
  {
   "cell_type": "code",
   "execution_count": 2,
   "id": "f86b19f8",
   "metadata": {},
   "outputs": [],
   "source": [
    "matryoshka_dim = 64\n",
    "model = SentenceTransformer(\"tomaarsen/mpnet-base-nli-matryoshka\", truncate_dim=matryoshka_dim)"
   ]
  },
  {
   "cell_type": "code",
   "execution_count": 3,
   "id": "579f5d7b",
   "metadata": {},
   "outputs": [],
   "source": [
    "embeddings = model.encode([\n",
    "    \"Rachel is an amazing person.\",\n",
    "    \"Maria is an incredible person.\",\n",
    "    \"Nikhil is a fantastic person.\",\n",
    "    \"Rachel is a wonderful person.\",\n",
    "    \"Rachel hates carrots.\",\n",
    "    \"Rachel hates food.\"\n",
    "])"
   ]
  },
  {
   "cell_type": "code",
   "execution_count": 4,
   "id": "3a3145c8",
   "metadata": {},
   "outputs": [
    {
     "name": "stdout",
     "output_type": "stream",
     "text": [
      "Shape before truncation: (6, 64)\n",
      "Memory size before truncation: 1.50 KB\n",
      "tensor([[0.7534, 0.5863, 0.9524, 0.2467, 0.2536]])\n",
      "Shape after truncation: (6, 64)\n",
      "Memory size after truncation: 1.50 KB\n",
      "tensor([[0.7534, 0.5863, 0.9524, 0.2467, 0.2536]])\n"
     ]
    }
   ],
   "source": [
    "print('Shape before truncation:', embeddings.shape)\n",
    "print('Memory size before truncation: %.2f KB' % (embeddings.nbytes / 1024))\n",
    "\n",
    "similarities = cos_sim(embeddings[0], embeddings[1:])\n",
    "print(similarities)\n",
    "\n",
    "embeddings = embeddings[:, :matryoshka_dim]\n",
    "print('Shape after truncation:', embeddings.shape)\n",
    "print('Memory size after truncation: %.2f KB' % (embeddings.nbytes / 1024))\n",
    "\n",
    "similarities = cos_sim(embeddings[0], embeddings[1:])\n",
    "print(similarities)"
   ]
  }
 ],
 "metadata": {
  "kernelspec": {
   "display_name": "vector-db-research",
   "language": "python",
   "name": "python3"
  },
  "language_info": {
   "codemirror_mode": {
    "name": "ipython",
    "version": 3
   },
   "file_extension": ".py",
   "mimetype": "text/x-python",
   "name": "python",
   "nbconvert_exporter": "python",
   "pygments_lexer": "ipython3",
   "version": "3.12.11"
  }
 },
 "nbformat": 4,
 "nbformat_minor": 5
}
