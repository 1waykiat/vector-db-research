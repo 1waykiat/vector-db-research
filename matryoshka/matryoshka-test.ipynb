{
 "cells": [
  {
   "cell_type": "code",
   "execution_count": null,
   "id": "e0d55d7a",
   "metadata": {},
   "outputs": [],
   "source": [
    "%pip install -U sentence-transformers"
   ]
  },
  {
   "cell_type": "code",
   "execution_count": 2,
   "id": "cbc13886",
   "metadata": {},
   "outputs": [
    {
     "name": "stdout",
     "output_type": "stream",
     "text": [
      "Shape before truncation: (6, 768)\n",
      "Memory size before truncation: 18.00 KB\n",
      "tensor([[0.7360, 0.4817, 0.9491, 0.2576, 0.3409]])\n",
      "Shape after truncation: (6, 64)\n",
      "Memory size after truncation: 1.50 KB\n",
      "tensor([[0.7534, 0.5863, 0.9524, 0.2467, 0.2536]])\n"
     ]
    }
   ],
   "source": [
    "from sentence_transformers import SentenceTransformer\n",
    "from sentence_transformers.util import cos_sim\n",
    "\n",
    "matryoshka_dim = 64\n",
    "model = SentenceTransformer(\"tomaarsen/mpnet-base-nli-matryoshka\")\n",
    "\n",
    "embeddings = model.encode([\n",
    "    \"Rachel is an amazing person.\",\n",
    "    \"Maria is an incredible person.\",\n",
    "    \"Nikhil is a fantastic person.\",\n",
    "    \"Rachel is a wonderful person.\",\n",
    "    \"Rachel hates carrots.\",\n",
    "    \"Rachel hates food.\"\n",
    "])\n",
    "\n",
    "import numpy as np\n",
    "print('Shape before truncation:', embeddings.shape)\n",
    "print('Memory size before truncation: %.2f KB' % (embeddings.nbytes / 1024))\n",
    "\n",
    "similarities = cos_sim(embeddings[0], embeddings[1:])\n",
    "print(similarities)\n",
    "\n",
    "embeddings = embeddings[:, :matryoshka_dim]\n",
    "print('Shape after truncation:', embeddings.shape)\n",
    "print('Memory size after truncation: %.2f KB' % (embeddings.nbytes / 1024))\n",
    "\n",
    "similarities = cos_sim(embeddings[0], embeddings[1:])\n",
    "print(similarities)"
   ]
  }
 ],
 "metadata": {
  "kernelspec": {
   "display_name": "Python 3",
   "language": "python",
   "name": "python3"
  },
  "language_info": {
   "codemirror_mode": {
    "name": "ipython",
    "version": 3
   },
   "file_extension": ".py",
   "mimetype": "text/x-python",
   "name": "python",
   "nbconvert_exporter": "python",
   "pygments_lexer": "ipython3",
   "version": "3.13.7"
  }
 },
 "nbformat": 4,
 "nbformat_minor": 5
}
